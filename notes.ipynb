{
 "cells": [
  {
   "cell_type": "code",
   "execution_count": 1,
   "metadata": {},
   "outputs": [
    {
     "ename": "NameError",
     "evalue": "name 'pd' is not defined",
     "output_type": "error",
     "traceback": [
      "\u001b[1;31m---------------------------------------------------------------------------\u001b[0m",
      "\u001b[1;31mNameError\u001b[0m                                 Traceback (most recent call last)",
      "Cell \u001b[1;32mIn[1], line 1\u001b[0m\n\u001b[1;32m----> 1\u001b[0m pd\u001b[38;5;241m.\u001b[39mmelt(\n\u001b[0;32m      2\u001b[0m     frame,               \u001b[38;5;66;03m# The DataFrame to melt\u001b[39;00m\n\u001b[0;32m      3\u001b[0m     id_vars\u001b[38;5;241m=\u001b[39m\u001b[38;5;28;01mNone\u001b[39;00m,        \u001b[38;5;66;03m# Columns to keep fixed (not melted)\u001b[39;00m\n\u001b[0;32m      4\u001b[0m     value_vars\u001b[38;5;241m=\u001b[39m\u001b[38;5;28;01mNone\u001b[39;00m,     \u001b[38;5;66;03m# Columns to melt (default: all columns except id_vars)\u001b[39;00m\n\u001b[0;32m      5\u001b[0m     var_name\u001b[38;5;241m=\u001b[39m\u001b[38;5;28;01mNone\u001b[39;00m,       \u001b[38;5;66;03m# Name of the new column that holds the melted column names\u001b[39;00m\n\u001b[0;32m      6\u001b[0m     value_name\u001b[38;5;241m=\u001b[39m\u001b[38;5;124m'\u001b[39m\u001b[38;5;124mvalue\u001b[39m\u001b[38;5;124m'\u001b[39m,  \u001b[38;5;66;03m# Name of the new column that holds the values\u001b[39;00m\n\u001b[0;32m      7\u001b[0m     col_level\u001b[38;5;241m=\u001b[39m\u001b[38;5;28;01mNone\u001b[39;00m       \u001b[38;5;66;03m# Specify level in a MultiIndex column to melt\u001b[39;00m\n\u001b[0;32m      8\u001b[0m )\n",
      "\u001b[1;31mNameError\u001b[0m: name 'pd' is not defined"
     ]
    }
   ],
   "source": [
    "pd.melt(\n",
    "    frame,               # The DataFrame to melt\n",
    "    id_vars=None,        # Columns to keep fixed (not melted)\n",
    "    value_vars=None,     # Columns to melt (default: all columns except id_vars)\n",
    "    var_name=None,       # Name of the new column that holds the melted column names\n",
    "    value_name='value',  # Name of the new column that holds the values\n",
    "    col_level=None       # Specify level in a MultiIndex column to melt\n",
    ")\n"
   ]
  },
  {
   "cell_type": "code",
   "execution_count": null,
   "metadata": {},
   "outputs": [],
   "source": [
    "df.pivot_table(\n",
    "    values=None,       # The column(s) you want to aggregate (optional).\n",
    "    index=None,        # The column(s) to group by on the rows.\n",
    "    columns=None,      # The column(s) to group by on the columns.\n",
    "    aggfunc='mean',    # Aggregation function (default is 'mean'). You can use others like 'sum', 'count', 'max', etc.\n",
    "    fill_value=None,   # Optional; fills missing values.\n",
    "    margins=False,     # Optional; adds a \"Total\" row and column.\n",
    "    dropna=True        # Optional; removes rows and columns with missing values.\n",
    ")\n"
   ]
  },
  {
   "cell_type": "code",
   "execution_count": null,
   "metadata": {},
   "outputs": [],
   "source": [
    "# define seasons based on release months\n",
    "def get_season(month):\n",
    "    if month in [12, 1, 2]:\n",
    "        return 'Winter'\n",
    "    elif month in [3, 4, 5]:\n",
    "        return 'Spring'\n",
    "    elif month in [6, 7, 8]:\n",
    "        return 'Summer'\n",
    "    else:\n",
    "        return 'Fall'\n",
    "\n",
    "# apply the season categorization to the dataset\n",
    "netflix_data['Release Season'] = netflix_data['Release Month'].apply(get_season)\n",
    "\n",
    "# aggregate viewership hours by release season\n",
    "seasonal_viewership = netflix_data.groupby('Release Season')['Hours Viewed'].sum()\n",
    "\n",
    "# order the seasons as 'Winter', 'Spring', 'Summer', 'Fall'\n",
    "seasons_order = ['Winter', 'Spring', 'Summer', 'Fall']\n",
    "seasonal_viewership = seasonal_viewership.reindex(seasons_order)\n",
    "\n",
    "fig = go.Figure(data=[\n",
    "    go.Bar(\n",
    "        x=seasonal_viewership.index,\n",
    "        y=seasonal_viewership.values,\n",
    "        marker_color='orange'\n",
    "    )\n",
    "])\n",
    "\n",
    "fig.update_layout(\n",
    "    title='Total Viewership Hours by Release Season (2023)',\n",
    "    xaxis_title='Season',\n",
    "    yaxis_title='Total Hours Viewed (in billions)',\n",
    "    xaxis_tickangle=0,\n",
    "    height=500,\n",
    "    width=800,\n",
    "    xaxis=dict(\n",
    "        categoryorder='array',\n",
    "        categoryarray=seasons_order\n",
    "    )\n",
    ")\n",
    "\n",
    "fig.show()"
   ]
  }
 ],
 "metadata": {
  "kernelspec": {
   "display_name": "base",
   "language": "python",
   "name": "python3"
  },
  "language_info": {
   "codemirror_mode": {
    "name": "ipython",
    "version": 3
   },
   "file_extension": ".py",
   "mimetype": "text/x-python",
   "name": "python",
   "nbconvert_exporter": "python",
   "pygments_lexer": "ipython3",
   "version": "3.11.3"
  }
 },
 "nbformat": 4,
 "nbformat_minor": 2
}
